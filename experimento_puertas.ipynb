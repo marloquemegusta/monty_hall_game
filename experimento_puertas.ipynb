{
  "nbformat": 4,
  "nbformat_minor": 0,
  "metadata": {
    "colab": {
      "name": "experimento_puertas.ipynb",
      "private_outputs": true,
      "provenance": [],
      "collapsed_sections": [],
      "authorship_tag": "ABX9TyPX5ZKQH/g4v5cd4Hj9X9gt",
      "include_colab_link": true
    },
    "kernelspec": {
      "name": "python3",
      "display_name": "Python 3"
    }
  },
  "cells": [
    {
      "cell_type": "markdown",
      "metadata": {
        "id": "view-in-github",
        "colab_type": "text"
      },
      "source": [
        "<a href=\"https://colab.research.google.com/github/marloquemegusta/monty_hall_game/blob/main/experimento_puertas.ipynb\" target=\"_parent\"><img src=\"https://colab.research.google.com/assets/colab-badge.svg\" alt=\"Open In Colab\"/></a>"
      ]
    },
    {
      "cell_type": "code",
      "metadata": {
        "id": "zeQKb3b4CwLf"
      },
      "source": [
        "import numpy as np"
      ],
      "execution_count": null,
      "outputs": []
    },
    {
      "cell_type": "code",
      "metadata": {
        "id": "2qRSdtFKC1Ho"
      },
      "source": [
        "n_intentos=100000"
      ],
      "execution_count": null,
      "outputs": []
    },
    {
      "cell_type": "code",
      "metadata": {
        "id": "TEx7MPjaZkqF"
      },
      "source": [
        "puerta_con_coche=np.random.randint(3)\r\n",
        "print(\"El coche está en la puerta {}\".format(puerta_con_coche))\r\n",
        "# una de las tres puertas al azar es nuestra apuesta inicial\r\n",
        "mi_apuesta_inicial=np.random.randint(3)\r\n",
        "print(\"Inicialmente, apuesto a que el coche está en la puerta {}\".format(mi_apuesta_inicial))\r\n",
        "# el presentador abrirá una puerta que no es ni la que hemos elegido ni la\r\n",
        "# que contiene el coche\r\n",
        "posibles_elecciones_presentador=list(range(3))\r\n",
        "# primero quitamos de las posibles elecciones la puerta donde está el coche\r\n",
        "posibles_elecciones_presentador.remove(puerta_con_coche)\r\n",
        "# si nuestra apuesta inicial no era la puerta donde está el coche, la quitamos\r\n",
        "# también\r\n",
        "if mi_apuesta_inicial!=puerta_con_coche:\r\n",
        "  posibles_elecciones_presentador.remove(mi_apuesta_inicial)\r\n",
        "if len(posibles_elecciones_presentador)>1:\r\n",
        "  texto=(\"Como el coche está en la puerta {} y yo he apostado por la puerta {} también \"\r\n",
        "         \"el presentador puede elegir entre las puertas {}\")\r\n",
        "else:\r\n",
        "  texto=(\"Como el coche está en la puerta {} y yo he apostado por la puerta {} \"\r\n",
        "         \"el presentador puede elegir la puerta {}\")\r\n",
        "print(texto.format(puerta_con_coche,mi_apuesta_inicial,posibles_elecciones_presentador))\r\n",
        "puerta_abierta=np.random.choice(posibles_elecciones_presentador)\r\n",
        "print(\"El presentador elije abrir la puerta {}\".format(puerta_abierta))\r\n",
        "# ahora, si elegimos cambiar, debemos elegir una puerta que no sea ni la que\r\n",
        "# elegimos al principio ni la que ha abierto el presentador\r\n",
        "posibles_elecciones_concursante=list(range(3))\r\n",
        "posibles_elecciones_concursante.remove(mi_apuesta_inicial)\r\n",
        "posibles_elecciones_concursante.remove(puerta_abierta)\r\n",
        "if len(posibles_elecciones_concursante)>1:\r\n",
        "  texto=(\"podemos elegir cambiar a una de entre las puertas {} o \"\r\n",
        "         \"quedarnos con {}, nuestra apuesta inicial\")\r\n",
        "else:\r\n",
        "  texto=(\"Podemos elegir cambiar a la puerta {} o quedarnos con {}, \"\r\n",
        "        \"nuestra apuesta inicial\" )\r\n",
        "print(texto.format(posibles_elecciones_concursante,mi_apuesta_inicial))\r\n",
        "mi_apuesta_final=np.random.choice(posibles_elecciones_concursante)\r\n",
        "print(\"Si escogemos cambiar, nuestra apuesta final es {}\".format(mi_apuesta_final))\r\n",
        "accion_ganadora=\"cambiar de puerta\" if mi_apuesta_final==puerta_con_coche else \"no cambiar de puerta\"\r\n",
        "print(\"Habríamos acertado al {}\".format(accion_ganadora))"
      ],
      "execution_count": null,
      "outputs": []
    },
    {
      "cell_type": "code",
      "metadata": {
        "id": "JvZF8lblVDqn"
      },
      "source": [
        "aciertos_cambiando=0\r\n",
        "aciertos_sin_cambiar=0\r\n",
        "for intento in range(n_intentos):\r\n",
        "  puerta_con_coche=np.random.randint(3)\r\n",
        "  # una de las tres puertas al azar es nuestra apuesta inicial\r\n",
        "  mi_apuesta_inicial=np.random.randint(3)\r\n",
        "  # el presentador abrirá una puerta que no es ni la que hemos elegido ni la\r\n",
        "  # que contiene el coche\r\n",
        "  posibles_elecciones_presentador=list(range(3))\r\n",
        "  # primero quitamos de las posibles elecciones la puerta donde está el coche\r\n",
        "  posibles_elecciones_presentador.remove(puerta_con_coche)\r\n",
        "  # si nuestra apuesta inicial no era la puerta donde está el coche, la quitamos\r\n",
        "  # también\r\n",
        "  if mi_apuesta_inicial!=puerta_con_coche:\r\n",
        "    posibles_elecciones_presentador.remove(mi_apuesta_inicial)\r\n",
        "  puerta_abierta=np.random.choice(posibles_elecciones_presentador)\r\n",
        "  # ahora, si elegimos cambiar, debemos elegir una puerta que no sea ni la que\r\n",
        "  # elegimos al principio ni la que ha abierto el presentador\r\n",
        "  posibles_elecciones_concursante=list(range(3))\r\n",
        "  posibles_elecciones_concursante.remove(mi_apuesta_inicial)\r\n",
        "  posibles_elecciones_concursante.remove(puerta_abierta)\r\n",
        "  mi_apuesta_final=np.random.choice(posibles_elecciones_concursante)\r\n",
        "  # actualizamos los contadores de aciertos\r\n",
        "  aciertos_sin_cambiar+=1 if mi_apuesta_inicial == puerta_con_coche else 0\r\n",
        "  aciertos_cambiando+=1 if mi_apuesta_final == puerta_con_coche else 0\r\n",
        "\r\n",
        "print(\"cambiando siempre, se acierta un {}% de las veces, sin cambiar un {}%\".format(\r\n",
        "    aciertos_cambiando/n_intentos*100,aciertos_sin_cambiar/n_intentos*100\r\n",
        "))\r\n",
        "\r\n"
      ],
      "execution_count": null,
      "outputs": []
    }
  ]
}